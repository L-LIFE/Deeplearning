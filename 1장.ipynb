{
  "nbformat": 4,
  "nbformat_minor": 0,
  "metadata": {
    "colab": {
      "provenance": [],
      "gpuType": "T4",
      "authorship_tag": "ABX9TyNzfQriPF9wvh1SgiCDaJKb"
    },
    "kernelspec": {
      "name": "python3",
      "display_name": "Python 3"
    },
    "language_info": {
      "name": "python"
    },
    "accelerator": "GPU"
  },
  "cells": [
    {
      "cell_type": "code",
      "execution_count": 2,
      "metadata": {
        "colab": {
          "base_uri": "https://localhost:8080/"
        },
        "id": "Xut7yc7YcatF",
        "outputId": "6d1e43d0-594d-4ed9-ec3b-9cb504f4d45f"
      },
      "outputs": [
        {
          "output_type": "stream",
          "name": "stdout",
          "text": [
            "Hello, Deeplearning!\n"
          ]
        }
      ],
      "source": [
        "print(\"Hello, Deeplearning!\")"
      ]
    },
    {
      "cell_type": "code",
      "source": [
        "#구글 코랩의 tensorfow 기본 버전\n",
        "import tensorflow as tf\n",
        "\n",
        "print(tf.__version__)"
      ],
      "metadata": {
        "colab": {
          "base_uri": "https://localhost:8080/"
        },
        "id": "bp4N9cz5c-bL",
        "outputId": "044440b5-ca73-46d2-d5a3-ea047fa60531"
      },
      "execution_count": 4,
      "outputs": [
        {
          "output_type": "stream",
          "name": "stdout",
          "text": [
            "2.17.0\n"
          ]
        }
      ]
    },
    {
      "cell_type": "markdown",
      "source": [
        "###  딥러닝"
      ],
      "metadata": {
        "id": "AiemqBzOdN8G"
      }
    }
  ]
}