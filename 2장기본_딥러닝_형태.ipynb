{
  "nbformat": 4,
  "nbformat_minor": 0,
  "metadata": {
    "colab": {
      "provenance": [],
      "authorship_tag": "ABX9TyNfCiJ1/8Rgd7/jdN/vtHJL"
    },
    "kernelspec": {
      "name": "python3",
      "display_name": "Python 3"
    },
    "language_info": {
      "name": "python"
    }
  },
  "cells": [
    {
      "cell_type": "markdown",
      "source": [
        "일반 형태의 코드: 데이터를 통해 일반 프로그래밍하여 답을 도출\n",
        "\n",
        "머신러닝 형태의 코드: 데이터와 답을 머신러닝에 제공화여 규칙(패턴)을 도출 => 새로운 내용을 예측"
      ],
      "metadata": {
        "id": "Qc-94-TseKUo"
      }
    },
    {
      "cell_type": "markdown",
      "source": [
        "# 환경설정"
      ],
      "metadata": {
        "id": "gyD8XWqogF0s"
      }
    },
    {
      "cell_type": "code",
      "execution_count": 1,
      "metadata": {
        "id": "Xw2YMOdLeF9L"
      },
      "outputs": [],
      "source": [
        "from tensorflow.keras.models import Sequential  #텐서 플로의 케라스 API에서 필요한 함수\n",
        "from tensorflow.keras.layers import Dense #데이터를 다루는 데 필요한 라이브러리\n",
        "import numpy as np"
      ]
    },
    {
      "cell_type": "markdown",
      "source": [
        "#데이터 준비"
      ],
      "metadata": {
        "id": "Yq61-fb5gHGA"
      }
    },
    {
      "cell_type": "code",
      "source": [
        "!git clone https://github.com/taehojo/data.git #준비된 데이터\n",
        "\n",
        "#폐암 환자의 수술 후 데이터\n",
        "Data_set= np.loadtxt(\"./data/ThoraricSurgery3.csv\", delimiter=\",\") #수술 환자 데이터 로드\n",
        "X=Data_set[:, 0:16] #환자의 진찰 기록을 X로 지정\n",
        "y=Data_set[:, 16] #수술 후 사망/생존 여부를 y로 지정"
      ],
      "metadata": {
        "colab": {
          "base_uri": "https://localhost:8080/"
        },
        "id": "eCNnKJyffEJd",
        "outputId": "3ee8ea5e-1fc8-4a48-ee0c-a4d4a7582f0d"
      },
      "execution_count": 2,
      "outputs": [
        {
          "output_type": "stream",
          "name": "stdout",
          "text": [
            "Cloning into 'data'...\n",
            "remote: Enumerating objects: 32, done.\u001b[K\n",
            "remote: Counting objects: 100% (32/32), done.\u001b[K\n",
            "remote: Compressing objects: 100% (27/27), done.\u001b[K\n",
            "remote: Total 32 (delta 7), reused 23 (delta 3), pack-reused 0 (from 0)\u001b[K\n",
            "Receiving objects: 100% (32/32), 467.96 KiB | 4.29 MiB/s, done.\n",
            "Resolving deltas: 100% (7/7), done.\n"
          ]
        }
      ]
    },
    {
      "cell_type": "markdown",
      "source": [
        "#구조 결정\n",
        "\n",
        "어떤 형태로 딥러닝을 만들 것인지를 결정하는 부분"
      ],
      "metadata": {
        "id": "-T5AdXpcgQGB"
      }
    },
    {
      "cell_type": "code",
      "source": [
        "model=Sequential()\n",
        "model.add(Dense(30, input_dim=16, activation='relu'))\n",
        "model.add(Dense(1, activation='sigmoid'))"
      ],
      "metadata": {
        "colab": {
          "base_uri": "https://localhost:8080/"
        },
        "id": "xvmMntXkgXx4",
        "outputId": "cfb3cebe-c854-42ea-fc43-a59430a599e0"
      },
      "execution_count": 3,
      "outputs": [
        {
          "output_type": "stream",
          "name": "stderr",
          "text": [
            "/usr/local/lib/python3.10/dist-packages/keras/src/layers/core/dense.py:87: UserWarning: Do not pass an `input_shape`/`input_dim` argument to a layer. When using Sequential models, prefer using an `Input(shape)` object as the first layer in the model instead.\n",
            "  super().__init__(activity_regularizer=activity_regularizer, **kwargs)\n"
          ]
        }
      ]
    },
    {
      "cell_type": "markdown",
      "source": [
        "# 모델 실행"
      ],
      "metadata": {
        "id": "gdsWjKQLhAIo"
      }
    },
    {
      "cell_type": "code",
      "source": [
        "model.compile(loss='binary_crossentropy', optimizer='adam', metrics=['accuracy']) #딥러닝 모델을 실행\n",
        "history= model.fit(X, y, epochs=5, batch_size=16)"
      ],
      "metadata": {
        "colab": {
          "base_uri": "https://localhost:8080/"
        },
        "id": "j0sKbr1ZhBmv",
        "outputId": "c745b632-fece-45e8-ff29-03d8e707efd7"
      },
      "execution_count": 5,
      "outputs": [
        {
          "output_type": "stream",
          "name": "stdout",
          "text": [
            "Epoch 1/5\n",
            "\u001b[1m30/30\u001b[0m \u001b[32m━━━━━━━━━━━━━━━━━━━━\u001b[0m\u001b[37m\u001b[0m \u001b[1m1s\u001b[0m 2ms/step - accuracy: 0.8626 - loss: 0.4770\n",
            "Epoch 2/5\n",
            "\u001b[1m30/30\u001b[0m \u001b[32m━━━━━━━━━━━━━━━━━━━━\u001b[0m\u001b[37m\u001b[0m \u001b[1m0s\u001b[0m 1ms/step - accuracy: 0.8394 - loss: 0.4833 \n",
            "Epoch 3/5\n",
            "\u001b[1m30/30\u001b[0m \u001b[32m━━━━━━━━━━━━━━━━━━━━\u001b[0m\u001b[37m\u001b[0m \u001b[1m0s\u001b[0m 2ms/step - accuracy: 0.8508 - loss: 0.4649\n",
            "Epoch 4/5\n",
            "\u001b[1m30/30\u001b[0m \u001b[32m━━━━━━━━━━━━━━━━━━━━\u001b[0m\u001b[37m\u001b[0m \u001b[1m0s\u001b[0m 2ms/step - accuracy: 0.8587 - loss: 0.4311\n",
            "Epoch 5/5\n",
            "\u001b[1m30/30\u001b[0m \u001b[32m━━━━━━━━━━━━━━━━━━━━\u001b[0m\u001b[37m\u001b[0m \u001b[1m0s\u001b[0m 2ms/step - accuracy: 0.8608 - loss: 0.4149 \n"
          ]
        }
      ]
    }
  ]
}